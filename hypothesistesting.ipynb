{
  "nbformat": 4,
  "nbformat_minor": 0,
  "metadata": {
    "colab": {
      "provenance": [],
      "authorship_tag": "ABX9TyOuHnTfolhwBd+1bWoaI1yo",
      "include_colab_link": true
    },
    "kernelspec": {
      "name": "python3",
      "display_name": "Python 3"
    },
    "language_info": {
      "name": "python"
    }
  },
  "cells": [
    {
      "cell_type": "markdown",
      "metadata": {
        "id": "view-in-github",
        "colab_type": "text"
      },
      "source": [
        "<a href=\"https://colab.research.google.com/github/Rohith-2405/data-science-assignments/blob/main/hypothesistesting.ipynb\" target=\"_parent\"><img src=\"https://colab.research.google.com/assets/colab-badge.svg\" alt=\"Open In Colab\"/></a>"
      ]
    },
    {
      "cell_type": "markdown",
      "source": [
        "**hypothesis** **testing**"
      ],
      "metadata": {
        "id": "kc7pJcc02cXj"
      }
    },
    {
      "cell_type": "code",
      "execution_count": 1,
      "metadata": {
        "id": "qF4RThsv0dYN"
      },
      "outputs": [],
      "source": [
        "import numpy as np\n",
        "from scipy.stats import t\n",
        "\n",
        "# Given data\n",
        "\n",
        "sample_mean = 3050\n",
        "theoretical_mean = 1000 + 5 * 600\n",
        "population_std = 5 * 25\n",
        "sample_size = 25\n",
        "alpha = 0.05  # Significance leve"
      ]
    },
    {
      "cell_type": "markdown",
      "source": [
        "**State** **the** **Hypotheses** **statement**:\n",
        "\n",
        "**Calculate the Test Statistic:**"
      ],
      "metadata": {
        "id": "1FzKq3qf2a3J"
      }
    },
    {
      "cell_type": "code",
      "source": [
        "# Calculate test statistic (t)\n",
        "t_statistic = (sample_mean - theoretical_mean) / (population_std / np.sqrt(sample_size))\n",
        "t_statistic"
      ],
      "metadata": {
        "colab": {
          "base_uri": "https://localhost:8080/"
        },
        "id": "D9PO5W001sil",
        "outputId": "199c0181-5180-4a9f-d94b-eaefab22d5d4"
      },
      "execution_count": 2,
      "outputs": [
        {
          "output_type": "execute_result",
          "data": {
            "text/plain": [
              "-38.0"
            ]
          },
          "metadata": {},
          "execution_count": 2
        }
      ]
    },
    {
      "cell_type": "markdown",
      "source": [
        "**Determine the Critical Value**"
      ],
      "metadata": {
        "id": "VYa7Vjhj28vK"
      }
    },
    {
      "cell_type": "code",
      "source": [
        "from scipy.stats import t\n",
        "\n",
        "alpha = 0.05\n",
        "df = sample_size - 1\n",
        "critical_value = t.ppf(1 - alpha/2, df)\n",
        "\n",
        "print(\"Critical Value:\", critical_value)"
      ],
      "metadata": {
        "colab": {
          "base_uri": "https://localhost:8080/"
        },
        "id": "bgMZqtVS1y9K",
        "outputId": "4ba58c84-08f5-4eaa-ba88-d58f0fe6a249"
      },
      "execution_count": 3,
      "outputs": [
        {
          "output_type": "stream",
          "name": "stdout",
          "text": [
            "Critical Value: 2.0638985616280205\n"
          ]
        }
      ]
    },
    {
      "cell_type": "markdown",
      "source": [
        "**Make a Decision**"
      ],
      "metadata": {
        "id": "ydm22zHQ3BO6"
      }
    },
    {
      "cell_type": "code",
      "source": [
        "if abs(t_statistic) > critical_value:\n",
        "    print(\"Reject Null Hypothesis (H0): The sample mean is equal to the theoretical mean.\")\n",
        "else:\n",
        "    print(\"Fail to Reject Null Hypothesis (H0):  The sample mean is not equal to the theoretical mean.\")"
      ],
      "metadata": {
        "colab": {
          "base_uri": "https://localhost:8080/"
        },
        "id": "-C85v6CW1zAd",
        "outputId": "7f842953-06d5-4ef5-dbfe-4b285e410781"
      },
      "execution_count": 4,
      "outputs": [
        {
          "output_type": "stream",
          "name": "stdout",
          "text": [
            "Reject Null Hypothesis (H0): The sample mean is equal to the theoretical mean.\n"
          ]
        }
      ]
    },
    {
      "cell_type": "markdown",
      "source": [],
      "metadata": {
        "id": "BwXQxIow3ISj"
      }
    }
  ]
}