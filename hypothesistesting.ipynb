{
  "nbformat": 4,
  "nbformat_minor": 0,
  "metadata": {
    "colab": {
      "provenance": [],
      "toc_visible": true
    },
    "kernelspec": {
      "name": "python3",
      "display_name": "Python 3"
    },
    "language_info": {
      "name": "python"
    }
  },
  "cells": [
    {
      "cell_type": "markdown",
      "source": [
        "**hypothesis** **testing**"
      ],
      "metadata": {
        "id": "kc7pJcc02cXj"
      }
    },
    {
      "cell_type": "code",
      "execution_count": 2,
      "metadata": {
        "id": "qF4RThsv0dYN"
      },
      "outputs": [],
      "source": [
        "import numpy as np\n",
        "from scipy.stats import t\n",
        "\n",
        "# Given data\n",
        "\n",
        "sample_mean = 3050\n",
        "theoretical_mean = 1000 + 5 * 600\n",
        "population_std = 5 * 25\n",
        "sample_size = 25\n",
        "alpha = 0.05  # Significance leve"
      ]
    },
    {
      "cell_type": "markdown",
      "source": [
        "**State** **the** **Hypotheses** **statement**:\n",
        "\n",
        "**Calculate the Test Statistic:**"
      ],
      "metadata": {
        "id": "1FzKq3qf2a3J"
      }
    },
    {
      "cell_type": "code",
      "source": [
        "# Calculate test statistic (t)\n",
        "t_statistic = (sample_mean - theoretical_mean) / (population_std / np.sqrt(sample_size))\n",
        "t_statistic"
      ],
      "metadata": {
        "colab": {
          "base_uri": "https://localhost:8080/"
        },
        "id": "D9PO5W001sil",
        "outputId": "a4851b41-e683-41dc-d9b5-9d19713c13a2"
      },
      "execution_count": 3,
      "outputs": [
        {
          "output_type": "execute_result",
          "data": {
            "text/plain": [
              "np.float64(-38.0)"
            ]
          },
          "metadata": {},
          "execution_count": 3
        }
      ]
    },
    {
      "cell_type": "markdown",
      "source": [
        "**Determine the Critical Value**"
      ],
      "metadata": {
        "id": "VYa7Vjhj28vK"
      }
    },
    {
      "cell_type": "code",
      "source": [
        "from scipy.stats import t\n",
        "\n",
        "alpha = 0.05\n",
        "df = sample_size - 1\n",
        "critical_value = t.ppf(1 - alpha/2, df)\n",
        "\n",
        "print(\"Critical Value:\", critical_value)"
      ],
      "metadata": {
        "colab": {
          "base_uri": "https://localhost:8080/"
        },
        "id": "bgMZqtVS1y9K",
        "outputId": "67c9ec00-8cf9-48e4-b012-490c3de4fb30"
      },
      "execution_count": 4,
      "outputs": [
        {
          "output_type": "stream",
          "name": "stdout",
          "text": [
            "Critical Value: 2.0638985616280205\n"
          ]
        }
      ]
    },
    {
      "cell_type": "markdown",
      "source": [
        "**Make a Decision**"
      ],
      "metadata": {
        "id": "ydm22zHQ3BO6"
      }
    },
    {
      "cell_type": "code",
      "source": [
        "if abs(t_statistic) > critical_value:\n",
        "    print(\"Reject Null Hypothesis (H0): The sample mean is equal to the theoretical mean.\")\n",
        "else:\n",
        "    print(\"Fail to Reject Null Hypothesis (H0):  The sample mean is not equal to the theoretical mean.\")"
      ],
      "metadata": {
        "colab": {
          "base_uri": "https://localhost:8080/"
        },
        "id": "-C85v6CW1zAd",
        "outputId": "7d38ed83-5b4c-4ed1-9e77-320ccba71078"
      },
      "execution_count": 6,
      "outputs": [
        {
          "output_type": "stream",
          "name": "stdout",
          "text": [
            "Reject Null Hypothesis (H0): The sample mean is equal to the theoretical mean.\n"
          ]
        }
      ]
    },
    {
      "cell_type": "markdown",
      "source": [],
      "metadata": {
        "id": "BwXQxIow3ISj"
      }
    }
  ]
}