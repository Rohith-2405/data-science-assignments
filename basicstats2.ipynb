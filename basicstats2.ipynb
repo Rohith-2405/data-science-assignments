{
  "nbformat": 4,
  "nbformat_minor": 0,
  "metadata": {
    "colab": {
      "provenance": []
    },
    "kernelspec": {
      "name": "python3",
      "display_name": "Python 3"
    },
    "language_info": {
      "name": "python"
    }
  },
  "cells": [
    {
      "cell_type": "code",
      "execution_count": null,
      "metadata": {
        "id": "wcgi3L9EoaAM"
      },
      "outputs": [],
      "source": [
        "\n",
        "import numpy as np\n",
        "from scipy import stats\n",
        "\n",
        "data = np.array([1.13, 1.55, 1.43, 0.92, 1.25, 1.36, 1.32, 0.85, 1.07, 1.48, 1.20, 1.33, 1.18, 1.22, 1.29])"
      ]
    },
    {
      "cell_type": "code",
      "source": [
        "#Build 99% Confidence Interval Using Sample Standard Deviation\n",
        "\n",
        "sample_mean = np.mean(data)\n",
        "sample_std = np.std(data)\n",
        "n = len(data)\n",
        "\n",
        "# Calculate the margin of error\n",
        "margin_error = stats.t.ppf(1 - 0.01/2, n-1) * sample_std / np.sqrt(n)\n",
        "\n",
        "# Calculate the confidence interval\n",
        "lower_bound = sample_mean - margin_error\n",
        "upper_bound = sample_mean + margin_error\n",
        "\n",
        "print(\"99% Confidence Interval:\", (lower_bound, upper_bound))"
      ],
      "metadata": {
        "colab": {
          "base_uri": "https://localhost:8080/"
        },
        "id": "73H4bd-Po_7O",
        "outputId": "1477dc92-7b54-4899-e779-29a76638cc60"
      },
      "execution_count": null,
      "outputs": [
        {
          "output_type": "stream",
          "name": "stdout",
          "text": [
            "99% Confidence Interval: (1.0952316686261228, 1.3821016647072104)\n"
          ]
        }
      ]
    },
    {
      "cell_type": "code",
      "source": [
        "import numpy as np\n",
        "known_std = 0.2\n",
        "\n",
        "# Calculate the critical value for a 99% confidence interval with 14 degrees of freedom\n",
        "critical_value = stats.t.ppf(1 - 0.01/2, 14)\n",
        "\n",
        "# Calculate the margin of error\n",
        "margin_error = critical_value * known_std / np.sqrt(15)\n",
        "\n",
        "# Construct the confidence interval\n",
        "lower_bound = sample_mean - margin_error\n",
        "upper_bound = sample_mean + margin_error\n",
        "\n",
        "print(\"99% Confidence Interval (Known Standard Deviation):\", (lower_bound, upper_bound))"
      ],
      "metadata": {
        "colab": {
          "base_uri": "https://localhost:8080/"
        },
        "id": "tzRUWzMJpG5t",
        "outputId": "cd9e4606-7e5f-4148-aac9-72d5031004bb"
      },
      "execution_count": null,
      "outputs": [
        {
          "output_type": "stream",
          "name": "stdout",
          "text": [
            "99% Confidence Interval (Known Standard Deviation): (1.0849431688733762, 1.392390164459957)\n"
          ]
        }
      ]
    }
  ]
}